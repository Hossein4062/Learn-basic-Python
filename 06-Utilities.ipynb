{
 "cells": [
  {
   "attachments": {
    "71b29707-9cf1-47e1-bc57-3641fcec9316.png": {
     "image/png": "[encoded data removed]"
    }
   },
   "cell_type": "markdown",
   "id": "6b3a43d6-6566-403b-8376-ef82739ce20f",
   "metadata": {},
   "source": [
    "###### ![image.png](attachment:71b29707-9cf1-47e1-bc57-3641fcec9316.png)"
   ]
  },
  {
   "cell_type": "markdown",
   "id": "f57856dd-1337-487f-9f02-9a4beb03e344",
   "metadata": {},
   "source": [
    "## Course: Artificial Neural Networks\n",
    "#### Course Instructor: Professor Ali Moti Nasrabadi\n",
    "#### Teaching Assistant: Hossein Pakdaman Moghaddam"
   ]
  },
  {
   "cell_type": "markdown",
   "id": "918b9f48-5e8e-42d3-872e-de4b342b1312",
   "metadata": {},
   "source": [
    "# Python Utilities "
   ]
  },
  {
   "cell_type": "markdown",
   "id": "3185bff8-e258-4be2-b9f2-2aa61051313a",
   "metadata": {},
   "source": [
    "In this section, we look at a few of Python's many standard utility modules to solve common problems."
   ]
  },
  {
   "cell_type": "markdown",
   "id": "6378bf12-c82e-4edd-afbf-47e1260ab683",
   "metadata": {},
   "source": [
    "## File System -- os, os.path, shutil\n",
    "\n",
    "The *os* and *os.path* modules include many functions to interact with the file system. The *shutil* module can copy files.\n",
    "\n",
    "* os module docs\n",
    "\n",
    "* filenames = os.listdir(dir) -- list of filenames in that directory path (not including . and ..). The filenames are just the names in the directory, not their absolute paths.\n",
    "  \n",
    "* os.path.join(dir, filename) -- given a filename from the above list, use this to put the dir and filename together to make a path\n",
    "  \n",
    "* os.path.abspath(path) -- given a path, return an absolute form, e.g. /home/nick/foo/bar.html\n",
    "  \n",
    "* os.path.dirname(path), os.path.basename(path) -- given dir/foo/bar.html, return the dirname \"dir/foo\" and basename \"bar.html\"\n",
    "  \n",
    "* os.path.exists(path) -- true if it exists\n",
    "  \n",
    "* os.mkdir(dir_path) -- makes one dir, os.makedirs(dir_path) makes all the needed dirs in this path\n",
    "  \n",
    "* shutil.copy(source-path, dest-path) -- copy a file (dest path directories should exist)"
   ]
  },
  {
   "cell_type": "code",
   "execution_count": 1,
   "id": "0dced7d1-c92c-4080-8781-777eebddca93",
   "metadata": {},
   "outputs": [],
   "source": [
    "## Example pulls filenames from a dir, prints their relative and absolute paths\n",
    "def printdir(dir):\n",
    "  filenames = os.listdir(dir)\n",
    "  for filename in filenames:\n",
    "    print(filename)  ## foo.txt\n",
    "    print(os.path.join(dir, filename)) ## dir/foo.txt (relative to current dir)\n",
    "    print(os.path.abspath(os.path.join(dir, filename))) ## /home/nick/dir/foo.txt"
   ]
  },
  {
   "cell_type": "markdown",
   "id": "eb21d057-d627-438a-84a0-66dc7d2f6cd3",
   "metadata": {},
   "source": [
    "Exploring a module works well with the built-in python help() and dir() functions. In the interpreter, do an \"import os\", and then use these commands look at what's available in the module: dir(os), help(os.listdir), dir(os.path), help(os.path.dirname)."
   ]
  },
  {
   "cell_type": "markdown",
   "id": "c85debaa-6ceb-411a-aee5-fe3ddcf6d48f",
   "metadata": {},
   "source": [
    "## Running External Processes -- subprocess\n",
    "The *subprocess* module is a simple way to run an external command and capture its output.\n",
    "\n",
    "* subprocess module docs\n",
    "  \n",
    "* output = subprocess.check_output(cmd, stderr=subprocess.STDOUT) -- runs the command, waits for it to exit, and returns its output text. The command is run with its standard output and standard error combined into the one output text. If it fails, it throws a CalledProcessError.\n",
    "  \n",
    "* If you want more control over the running of the sub-process, see the subprocess.popen class\n",
    "  \n",
    "* There is also a simple subprocess.call(cmd) which runs the command and dumps its output onto your output and returns its error code. This works if you want to run the command but do not need to capture its output into your python data structures."
   ]
  },
  {
   "cell_type": "code",
   "execution_count": 2,
   "id": "2cdb8c72-0c10-4df0-a5be-131ea5573d73",
   "metadata": {},
   "outputs": [],
   "source": [
    "import subprocess\n",
    "\n",
    "## Given a dir path, run an external 'ls -l' on it --\n",
    "## shows how to call an external program\n",
    "def listdir(dir):\n",
    "  cmd = 'ls -l ' + dir\n",
    "  print(\"Command to run:\", cmd)   ## good to debug cmd before actually running it\n",
    "  (status, output) = subprocess.getstatusoutput(cmd)\n",
    "  if status:    ## Error case, print the command's output to stderr and exit\n",
    "    sys.stderr.write(output)\n",
    "    sys.exit(status)\n",
    "  print(output)  ## Otherwise do something with the command's output"
   ]
  },
  {
   "cell_type": "markdown",
   "id": "f48fadc1-1329-42a6-a900-10772287e1b0",
   "metadata": {},
   "source": [
    "## Exceptions\n",
    "An exception represents a run-time error that halts the normal execution at a particular line and transfers control to error handling code. This section just introduces the most basic uses of exceptions. For example a run-time error might be that a variable used in the program does not have a value (ValueError .. you've probably seen that one a few times), or a file open operation error because a file does not exist (IOError). Learn more in the exceptions tutorial and see the entire exception list.\n",
    "\n",
    "Without any error handling code (as we have done thus far), a run-time exception just halts the program with an error message. That's a good default behavior, and you've seen it many times. You can add a \"try/except\" structure to your code to handle exceptions, like this:"
   ]
  },
  {
   "cell_type": "raw",
   "id": "65faa332-30b2-4e2a-8d73-a69ab03daf8b",
   "metadata": {},
   "source": [
    "try:\n",
    "  ## Either of these two lines could throw an IOError, say\n",
    "  ## if the file does not exist or the read() encounters a low level error.\n",
    "  f = open(filename, 'rb')\n",
    "  data = f.read()\n",
    "  f.close()\n",
    "except IOError:\n",
    "  ## Control jumps directly to here if any of the above lines throws IOError.\n",
    "  sys.stderr.write('problem reading:' + filename)\n",
    "## In any case, the code then continues with the line after the try/except"
   ]
  },
  {
   "cell_type": "markdown",
   "id": "a6afced3-8fa5-40da-b1eb-d38819db1af7",
   "metadata": {},
   "source": [
    "The try: section includes the code which might throw an exception. The except: section holds the code to run if there is an exception. If there is no exception, the except: section is skipped (that is, that code is for error handling only, not the \"normal\" case for the code). You can get a pointer to the exception object itself with syntax \"except IOError as e: ..\" (e points to the exception object)."
   ]
  },
  {
   "cell_type": "markdown",
   "id": "0f6d7892-8051-4b24-89d9-7bdc5b4e0b75",
   "metadata": {},
   "source": [
    "## HTTP -- urllib and urlparse\n",
    "The module *urllib.request* provides url fetching -- making a url look like a file you can read from. The *urlparse* module can take apart and put together urls.\n",
    "\n",
    "* urllib.request module docs\n",
    "\n",
    "* ufile = urllib.request.urlopen(url) -- returns a file like object for that url\n",
    "\n",
    "* text = ufile.read() -- can read from it, like a file (readlines() etc. also work)\n",
    "\n",
    "* info = ufile.info() -- the meta info for that request. info.gettype() is the mime type, e.g. 'text/html'\n",
    "\n",
    "* baseurl = ufile.geturl() -- gets the \"base\" url for the request, which may be different from the original because of redirects\n",
    "  \n",
    "* urllib.request.urlretrieve(url, filename) -- downloads the url data to the given file path\n",
    "  \n",
    "* urllib.parse.urljoin(baseurl, url) -- given a url that may or may not be full, and the baseurl of the page it comes from, return a full url. Use geturl() above to provide the base url.\n",
    "  \n",
    "All of exceptions are in urllib.error."
   ]
  },
  {
   "cell_type": "code",
   "execution_count": 4,
   "id": "7896fb6e-64e8-43cb-a57b-559bdffcfb5d",
   "metadata": {},
   "outputs": [],
   "source": [
    "from urllib.request import urlopen\n",
    "\n",
    "## Given a url, try to retrieve it. If it's text/html,\n",
    "## print its base url and its text.\n",
    "def wget(url):\n",
    "  ufile = urlopen(url)  ## get file-like object for url\n",
    "  info = ufile.info()   ## meta-info about the url content\n",
    "  if info.get_content_type() == 'text/html':\n",
    "    print('base url:' + ufile.geturl())\n",
    "    text = ufile.read()  ## read all its text\n",
    "    print(text)"
   ]
  },
  {
   "cell_type": "markdown",
   "id": "57d0e6a5-93ec-419e-9572-1653814a7987",
   "metadata": {},
   "source": [
    "The above code works fine, but does not include error handling if a url does not work for some reason. Here's a version of the function which adds try/except logic to print an error message if the url operation fails.\n",
    "\n",
    "If urlopen() appears to be hanging, your system may not allow direct access to some http addresses. You can verify this by trying to fetch the same url using wget or curl. If these programs also fail, you'll need to fetch http content through a proxy service. Configuring proxy access is not covered by this tutorial."
   ]
  },
  {
   "cell_type": "code",
   "execution_count": 5,
   "id": "87c04bf3-47bf-44a7-8347-df82ba0903c5",
   "metadata": {},
   "outputs": [],
   "source": [
    "## Version that uses try/except to print an error message if the\n",
    "## urlopen() fails.\n",
    "def wget2(url):\n",
    "  try:\n",
    "    ufile = urlopen(url)\n",
    "    if ufile.info().get_content_type() == 'text/html':\n",
    "      print(ufile.read())\n",
    "  except IOError:\n",
    "    print('problem reading url:', url)"
   ]
  },
  {
   "cell_type": "code",
   "execution_count": null,
   "id": "269fea59-9a65-4376-a049-909429851a32",
   "metadata": {},
   "outputs": [],
   "source": []
  }
 ],
 "metadata": {
  "kernelspec": {
   "display_name": "Python 3 (ipykernel)",
   "language": "python",
   "name": "python3"
  },
  "language_info": {
   "codemirror_mode": {
    "name": "ipython",
    "version": 3
   },
   "file_extension": ".py",
   "mimetype": "text/x-python",
   "name": "python",
   "nbconvert_exporter": "python",
   "pygments_lexer": "ipython3",
   "version": "3.11.10"
  }
 },
 "nbformat": 4,
 "nbformat_minor": 5
}
