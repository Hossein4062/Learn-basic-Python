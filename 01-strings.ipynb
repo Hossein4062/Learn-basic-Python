{
 "cells": [
  {
   "attachments": {
    "2d99a22b-4e15-418b-bead-2e25515e7594.png": {
     "image/png": "[encoded data removed]"
    }
   },
   "cell_type": "markdown",
   "id": "0a3e1d9e-593e-4f3b-bc0a-a4f17063fb92",
   "metadata": {
    "jp-MarkdownHeadingCollapsed": true
   },
   "source": [
    "\n",
    "   \n",
    "#### ![image.png](attachment:2d99a22b-4e15-418b-bead-2e25515e7594.png) #####\n",
    "\n"
   ]
  },
  {
   "cell_type": "markdown",
   "id": "879122df-e146-4fdf-a1af-2320aa044c9d",
   "metadata": {},
   "source": [
    "## Course: Artificial Neural Networks\n",
    "#### Course Instructor: Professor Ali Moti Nasrabadi\n",
    "#### Teaching Assistant: Hossein Pakdaman Moghaddam"
   ]
  },
  {
   "cell_type": "markdown",
   "id": "9a711f31-401f-4a67-8813-a244555c4a80",
   "metadata": {},
   "source": [
    "### Python Introduction"
   ]
  },
  {
   "cell_type": "markdown",
   "id": "d8f60cbc-2107-4243-9849-c317ac0f6726",
   "metadata": {},
   "source": [
    "#### Prelude"
   ]
  },
  {
   "cell_type": "markdown",
   "id": "fee3efff-b347-49a9-939c-e02add721b4a",
   "metadata": {},
   "source": [
    "Welcome to Python tutorial. this material covers Python 3."
   ]
  },
  {
   "cell_type": "markdown",
   "id": "d70e9828-c3e2-43ef-97b2-f8b72fbbaf8e",
   "metadata": {},
   "source": [
    "If you're seeking a companion MOOC course, try the ones from Udacity and Coursera (intro to programming [beginners] or intro to Python). Finally, if you're seeking self-paced  learning , try the ones listed towards the end of this post — each feature learning content as well as a Python interactive interpreter you can practice with. What's this \"interpreter\" we mention? You'll find out in the next section! 😉"
   ]
  },
  {
   "cell_type": "markdown",
   "id": "6663b7b4-49e1-47de-b7e0-999fcfa71890",
   "metadata": {},
   "source": [
    "Language Introduction\n",
    "Python is a dynamic, interpreted (bytecode-compiled) language. There are no type declarations of variables, parameters, functions, or methods in source code. This makes the code short and flexible, and you lose the compile-time type checking of the source code. Python tracks the types of all values at runtime and flags code that does not make sense as it runs.\n",
    "\n",
    "An excellent way to see how Python code works is to run the Python interpreter and type code right into it. If you ever have a question like, \"What happens if I add an int to a list?\" Just typing it into the Python interpreter is a fast and likely the best way to see what happens. (See below to see what really happens!)"
   ]
  },
  {
   "cell_type": "markdown",
   "id": "8918ad9a-266e-445c-95c5-dc4b0dbe65da",
   "metadata": {},
   "source": [
    "The following code is run in cmd 👇🏻"
   ]
  },
  {
   "cell_type": "code",
   "execution_count": null,
   "id": "ae0487c0-da5f-4a2b-bbfa-17b12395ca37",
   "metadata": {},
   "outputs": [],
   "source": [
    "$ python3        ## Run the Python interpreter\n",
    "Python 3.X.X (XXX, XXX XX XXXX, XX:XX:XX) [XXX] on XXX\n",
    "Type \"help\", \"copyright\", \"credits\" or \"license\" for more information.\n",
    ">>> a = 6       ## set a variable in this interpreter session\n",
    ">>> a           ## entering an expression prints its value\n",
    "6\n",
    ">>> a + 2\n",
    "8\n",
    ">>> a = 'hi'    ## 'a' can hold a string just as well\n",
    ">>> a\n",
    "'hi'\n",
    ">>> len(a)      ## call the len() function on a string\n",
    "2\n",
    ">>> a + len(a)  ## try something that doesn't work\n",
    "Traceback (most recent call last):\n",
    "  File \"\", line 1, in \n",
    "TypeError: can only concatenate str (not \"int\") to str\n",
    ">>> a + str(len(a))  ## probably what you really wanted\n",
    "'hi2'\n",
    ">>> foo         ## try something else that doesn't work\n",
    "Traceback (most recent call last):\n",
    "  File \"\", line 1, in \n",
    "NameError: name 'foo' is not defined\n",
    ">>> ^D          ## type CTRL-d to exit (CTRL-z in Windows/DOS terminal)"
   ]
  },
  {
   "cell_type": "markdown",
   "id": "592de905-ceaa-4052-bbd3-341cb978593c",
   "metadata": {},
   "source": [
    "The two lines python prints after you type python and before the >>> prompt tells you about the version of python you're using and where it was built. As long as the first thing printed is \"Python 3.\", these examples should work for you.\n",
    "\n",
    "As you can see above, it's easy to experiment with variables and operators. Also, the interpreter throws, or \"raises\" in Python parlance, a runtime error if the code tries to read a variable that has not been assigned a value. Like C++ and Java, Python is case sensitive so \"a\" and \"A\" are different variables. The end of a line marks the end of a statement, so unlike C++ and Java, Python does not require a semicolon at the end of each statement. Comments begin with a '#' and extend to the end of the line."
   ]
  },
  {
   "cell_type": "markdown",
   "id": "71d09938-6708-4ce3-b5a9-978a04b0531b",
   "metadata": {},
   "source": [
    "### Python Strings \n",
    "\n"
   ]
  },
  {
   "cell_type": "markdown",
   "id": "52f3e8a4-0b58-487d-8bd0-812773abe177",
   "metadata": {},
   "source": [
    "Python's built-in string class, `str`, offers many useful features, replacing the older `string` module. String literals can be enclosed in single or double quotes, and backslashes can escape characters like `\\n`, `\\'`, and `\\\"`. Triple quotes (`'''` or `\"\"\"`) allow multi-line strings. Python strings are immutable, meaning they cannot be modified after creation. When combining strings, new ones are created (e.g., `'hello' + 'there'` becomes `'hellothere'`).\n",
    "\n",
    "Characters in strings can be accessed using zero-based indexing (`s[1]` for the second character), and Python raises an error if the index is out of bounds. The `slice` syntax can extract substrings, and `len()` returns the string's length. This behavior applies to sequences like lists, as well. Python encourages consistent operations across different types and avoids default values when encountering errors. The `+` operator concatenates strings, and no variable pre-declaration is required before assignment."
   ]
  },
  {
   "cell_type": "code",
   "execution_count": 5,
   "id": "ece34822-d46f-4bd6-b635-4e64fcf884f8",
   "metadata": {},
   "outputs": [],
   "source": [
    "  s = 'hi'"
   ]
  },
  {
   "cell_type": "code",
   "execution_count": 6,
   "id": "43b3f05c-2616-49d9-bb99-269ed9845478",
   "metadata": {},
   "outputs": [
    {
     "name": "stdout",
     "output_type": "stream",
     "text": [
      "i\n"
     ]
    }
   ],
   "source": [
    "print(s[1])"
   ]
  },
  {
   "cell_type": "code",
   "execution_count": 7,
   "id": "0422e9a6-1ebc-41ca-9ca7-111f989f85b8",
   "metadata": {},
   "outputs": [
    {
     "name": "stdout",
     "output_type": "stream",
     "text": [
      "2\n"
     ]
    }
   ],
   "source": [
    "print(len(s))"
   ]
  },
  {
   "cell_type": "code",
   "execution_count": 8,
   "id": "a04608d4-ee24-49d8-996f-8602e9dbf398",
   "metadata": {},
   "outputs": [
    {
     "name": "stdout",
     "output_type": "stream",
     "text": [
      "hi there\n"
     ]
    }
   ],
   "source": [
    "print(s + ' there')"
   ]
  },
  {
   "cell_type": "code",
   "execution_count": 9,
   "id": "208a10bf-99a6-40ab-991b-87aac72c2ad6",
   "metadata": {},
   "outputs": [
    {
     "ename": "TypeError",
     "evalue": "can only concatenate str (not \"int\") to str",
     "output_type": "error",
     "traceback": [
      "\u001b[1;31m---------------------------------------------------------------------------\u001b[0m",
      "\u001b[1;31mTypeError\u001b[0m                                 Traceback (most recent call last)",
      "Cell \u001b[1;32mIn[9], line 1\u001b[0m\n\u001b[1;32m----> 1\u001b[0m \u001b[38;5;28mprint\u001b[39m(s \u001b[38;5;241m+\u001b[39m \u001b[38;5;241m3\u001b[39m)\n",
      "\u001b[1;31mTypeError\u001b[0m: can only concatenate str (not \"int\") to str"
     ]
    }
   ],
   "source": [
    "print(s + 3)"
   ]
  },
  {
   "cell_type": "markdown",
   "id": "55c542e5-f7e6-4ddd-b62e-fa16f01b473a",
   "metadata": {},
   "source": [
    "Unlike Java, the '+' does not automatically convert numbers or other types to string form. The str() function converts values to a string form so they can be combined with other strings"
   ]
  },
  {
   "cell_type": "code",
   "execution_count": 10,
   "id": "5a362851-e54e-4df4-b9ad-18c05e329cd1",
   "metadata": {},
   "outputs": [],
   "source": [
    "pi = 3.14"
   ]
  },
  {
   "cell_type": "code",
   "execution_count": 11,
   "id": "8fe2b262-4e61-4110-80be-8dab2ed6f2bc",
   "metadata": {},
   "outputs": [
    {
     "ename": "TypeError",
     "evalue": "can only concatenate str (not \"float\") to str",
     "output_type": "error",
     "traceback": [
      "\u001b[1;31m---------------------------------------------------------------------------\u001b[0m",
      "\u001b[1;31mTypeError\u001b[0m                                 Traceback (most recent call last)",
      "Cell \u001b[1;32mIn[11], line 1\u001b[0m\n\u001b[1;32m----> 1\u001b[0m text \u001b[38;5;241m=\u001b[39m \u001b[38;5;124m'\u001b[39m\u001b[38;5;124mThe value of pi is \u001b[39m\u001b[38;5;124m'\u001b[39m \u001b[38;5;241m+\u001b[39m pi\n",
      "\u001b[1;31mTypeError\u001b[0m: can only concatenate str (not \"float\") to str"
     ]
    }
   ],
   "source": [
    "text = 'The value of pi is ' + pi     \n"
   ]
  },
  {
   "cell_type": "code",
   "execution_count": 12,
   "id": "e1475da6-eec7-4e60-8668-39e46f43d1fa",
   "metadata": {},
   "outputs": [],
   "source": [
    "text = 'The value of pi is '  + str(pi)"
   ]
  },
  {
   "cell_type": "markdown",
   "id": "e20550d7-a369-4ee9-93a2-d2a375896d43",
   "metadata": {},
   "source": [
    "In Python, standard arithmetic operators like +, /, and * work as expected, but there is no ++ operator. However, operators like += and -= are available. For integer division, use // (e.g., 6 // 5 results in 1).\n",
    "\n",
    "The print() function prints items followed by a newline by default. A \"raw\" string is prefixed by r, which prevents backslashes from being treated as escape characters (e.g., r'x\\nx' evaluates to the string 'x\\nx' without treating \\n as a newline). Additionally, print() can take arguments like end=\"\" to modify its behavior, such as preventing a newline after printing."
   ]
  },
  {
   "cell_type": "code",
   "execution_count": 2,
   "id": "b0e934ea-d5b2-4627-9c16-e15461020efb",
   "metadata": {},
   "outputs": [
    {
     "name": "stdout",
     "output_type": "stream",
     "text": [
      "this\\t\\n and that\n"
     ]
    }
   ],
   "source": [
    "raw = r'this\\t\\n and that'\n",
    "print(raw)\n"
   ]
  },
  {
   "cell_type": "code",
   "execution_count": 10,
   "id": "f9a12673-2609-4b75-9516-85a09c1301c0",
   "metadata": {},
   "outputs": [],
   "source": [
    "multi = \"\"\"It was the best of times.\n",
    "  It was the worst of times.\"\"\""
   ]
  },
  {
   "cell_type": "code",
   "execution_count": 11,
   "id": "580aa2d0-19ea-4d91-ab79-8e6558fdffe8",
   "metadata": {},
   "outputs": [
    {
     "name": "stdout",
     "output_type": "stream",
     "text": [
      "It was the best of times.\n",
      "  It was the worst of times.\n"
     ]
    }
   ],
   "source": [
    "print(multi)"
   ]
  },
  {
   "cell_type": "markdown",
   "id": "8b73dfb1-7b96-436d-80b6-0ef3939b6b8d",
   "metadata": {},
   "source": [
    "String Methods\n",
    "Here are some of the most common string methods. A method is like a function, but it runs \"on\" an object. If the variable s is a string, then the code s.lower() runs the lower() method on that string object and returns the result (this idea of a method running on an object is one of the basic ideas that make up Object Oriented Programming, OOP). Here are some of the most common string methods:\n",
    "\n",
    "* s.lower(), s.upper() -- returns the lowercase or uppercase version of the string \n",
    " \n",
    "* s.strip() -- returns a string with whitespace removed from the start and end\n",
    " \n",
    "* s.isalpha()/s.isdigit()/s.isspace()... -- tests if all the string chars are in the various character classes\n",
    " \n",
    "* s.startswith('other'), s.endswith('other') -- tests if the string starts or ends with the given other string\n",
    " \n",
    "* s.find('other') -- searches for the given other string (not a regular expression) within s, and returns the\n",
    " first index where it begins or -1 if not found\n",
    " \n",
    "* s.replace('old', 'new') -- returns a string where all occurrences of 'old' have been replaced by 'new'\n",
    " \n",
    "* s.split('delim') -- returns a list of substrings separated by the given delimiter. The delimiter is not a regular expression, it's just text. 'aaa,bbb,ccc'.split(',') -> ['aaa', 'bbb', 'ccc']. As a convenient special case s.split() (with no arguments) splits on all whitespace chars.\n",
    " \n",
    "* s.join(list) -- opposite of split(), joins the elements in the given list together using the string as the delimiter. e.g. '---'.join(['aaa', 'bbb', 'ccc']) -> aaa---bbb---ccc\n",
    "A google search for \"python str\" should lead you to the official python.org string methods which lists all the str methods.\n",
    "\n",
    "Python does not have a separate character type. Instead an expression like s[8] returns a string-length-1 containing the character. With that string-length-1, the operators ==, <=, ... all work as you would expect, so mostly you don't need to know that Python does not have a separate scalar \"char\" type."
   ]
  },
  {
   "cell_type": "markdown",
   "id": "9c5fb4c4-bb68-4400-8db1-b19db47acd07",
   "metadata": {},
   "source": [
    "A google search for \"python str\" should lead you to the official python.org string methods which lists all the str methods.\n",
    "\n",
    "Python does not have a separate character type. Instead an expression like s[8] returns a string-length-1 containing the character. With that string-length-1, the operators ==, <=, ... all work as you would expect, so mostly you don't need to know that Python does not have a separate scalar \"char\" type.\n",
    "\n",
    "**String Slices**\n",
    "\n",
    "The \"slice\" syntax is a handy way to refer to sub-parts of sequences -- typically strings and lists. The slice s[start:end] is the elements beginning at start and extending up to but not including end. Suppose we have s = \"Hello\""
   ]
  },
  {
   "attachments": {
    "7c426222-3e8c-4216-92da-39cf3099738e.png": {
     "image/png": "[encoded data removed]"
    }
   },
   "cell_type": "markdown",
   "id": "5a159b23-be24-4257-b8af-03f1b4d20cce",
   "metadata": {},
   "source": [
    "![image.png](attachment:7c426222-3e8c-4216-92da-39cf3099738e.png)"
   ]
  },
  {
   "cell_type": "markdown",
   "id": "93b0a5c0-3e94-4ebc-ad40-3e44a980418f",
   "metadata": {},
   "source": [
    "* s[1:4] is 'ell' -- chars starting at index 1 and extending up to but not including index 4\n",
    "* s[1:] is 'ello' -- omitting either index defaults to the start or end of the string\n",
    "* s[:] is 'Hello' -- omitting both always gives us a copy of the whole thing (this is the pythonic way to copy a sequence like a string or list)\n",
    "* s[1:100] is 'ello' -- an index that is too big is truncated down to the string length\n",
    "The standard zero-based index numbers give easy access to chars near the start of the string. As an alternative, Python uses negative numbers to give easy access to the chars at the end of the string: s[-1] is the last char 'o', s[-2] is 'l' the next-to-last char, and so on. Negative index numbers count back from the end of the string:\n",
    "\n",
    "* s[-1] is 'o' -- last char (1st from the end)\n",
    "* s[-4] is 'e' -- 4th from the end\n",
    "* s[:-3] is 'He' -- going up to but not including the last 3 chars.\n",
    "* s[-3:] is 'llo' -- starting with the 3rd char from the end and extending to the end of the string.\n",
    "\n",
    "It is a neat truism of slices that for any index n, s[:n] + s[n:] == s. This works even for n negative or out of bounds. Or put another way s[:n] and s[n:] always partition the string into two string parts, conserving all the characters. As we'll see in the list section later, slices work with lists too."
   ]
  },
  {
   "cell_type": "markdown",
   "id": "8bb75551-d009-47dd-91cb-2c5b63eafc3a",
   "metadata": {},
   "source": [
    "**String formatting**\n",
    "\n",
    "One neat thing python can do is automatically convert objects into a string suitable for printing. Two built-in ways to do this are formatted string literals, also called \"f-strings\", and invoking str.format()."
   ]
  },
  {
   "cell_type": "markdown",
   "id": "c2472236-c686-4cc9-9b49-37917dc4db07",
   "metadata": {},
   "source": [
    "**Formatted string literals**\n",
    "\n",
    "You'll often see formatted string literals used in situations like:\n",
    "\n"
   ]
  },
  {
   "cell_type": "code",
   "execution_count": 12,
   "id": "59268ef3-b023-4423-9f9a-32dbebe9abac",
   "metadata": {},
   "outputs": [
    {
     "name": "stdout",
     "output_type": "stream",
     "text": [
      "approximate value = 2.79\n"
     ]
    }
   ],
   "source": [
    "value = 2.791514\n",
    "print(f'approximate value = {value:.2f}')"
   ]
  },
  {
   "cell_type": "code",
   "execution_count": 13,
   "id": "62f46b4e-1536-42e0-8f16-446db9d04ea6",
   "metadata": {},
   "outputs": [
    {
     "name": "stdout",
     "output_type": "stream",
     "text": [
      "car = {'tires': 4, 'doors': 2}\n"
     ]
    }
   ],
   "source": [
    "car = {'tires':4, 'doors':2}\n",
    "print(f'car = {car}') # car = {'tires': 4, 'doors': 2}"
   ]
  },
  {
   "cell_type": "markdown",
   "id": "54bd36ab-d7c1-4f86-b197-cf02ba8e0950",
   "metadata": {},
   "source": [
    "A formatted literal string is prefixed with 'f' (like the 'r' prefix used for raw strings). Any text outside of curly braces '{}' is printed out directly. Expressions contained in '{}' are are printed out using the format specification described in the format spec. There are lots of neat things you can do with the formatting including truncation and conversion to scientific notation and left/right/center alignment.\n",
    "\n",
    " \n",
    "f-strings are very useful when you'd like to print out a table of objects and would like the columns representing different object attributes to be aligned like"
   ]
  },
  {
   "cell_type": "code",
   "execution_count": 22,
   "id": "cea6ba9d-ad3d-4142-87ed-b25260666ae8",
   "metadata": {},
   "outputs": [
    {
     "name": "stdout",
     "output_type": "stream",
     "text": [
      "N.X.     || address: 15 Jones St          || blood_sugar    95 || blood_pressure 120/80   || heart_rate    72\n",
      "J.P.     || address: 1005 5th St          || blood_sugar   130 || blood_pressure 140/90   || heart_rate    80\n",
      "A.A.     || address: 200001 Bdwy          || blood_sugar    85 || blood_pressure 110/70   || heart_rate    65\n"
     ]
    }
   ],
   "source": [
    "patients_info = [\n",
    "    {'name':'N.X.', 'addr':'15 Jones St', 'blood_sugar': 95, 'blood_pressure': '120/80', 'heart_rate': 72},\n",
    "    {'name':'J.P.', 'addr':'1005 5th St', 'blood_sugar': 130, 'blood_pressure': '140/90', 'heart_rate': 80},\n",
    "    {'name':'A.A.', 'addr':'200001 Bdwy', 'blood_sugar': 85, 'blood_pressure': '110/70', 'heart_rate': 65},\n",
    "]\n",
    "\n",
    "for patient in patients_info:\n",
    "    print(f'{patient[\"name\"]:8} || address: {patient[\"addr\"]:20} || blood_sugar {patient[\"blood_sugar\"]:>5} || blood_pressure {patient[\"blood_pressure\"]:8} || heart_rate {patient[\"heart_rate\"]:>5}')\n",
    "\n",
    "# N.X.     || 15 Jones St          ||    95 || 120/80  ||    72\n",
    "# J.P.     || 1005 5th St          ||   130 || 140/90  ||    80\n",
    "# A.A.     || 200001 Bdwy          ||    85 || 110/70  ||    65\n"
   ]
  },
  {
   "cell_type": "markdown",
   "id": "8e9deb03-7ec0-4fea-8457-3f8a4156aa57",
   "metadata": {},
   "source": [
    "String %\n",
    "\n",
    "Python also has an older printf()-like facility to put together a string. The % operator takes a printf-type format string on the left (%d int, %s string, %f/%g floating point), and the matching values in a tuple on the right (a tuple is made of values separated by commas, typically grouped inside parentheses):"
   ]
  },
  {
   "cell_type": "code",
   "execution_count": 23,
   "id": "a2835f9c-36d3-4413-ad6e-d8a0ea3b0ba4",
   "metadata": {},
   "outputs": [],
   "source": [
    "  # % operator\n",
    "  text = \"%d little pigs come out, or I'll %s, and I'll %s, and I'll blow your %s down.\" % (3, 'huff', 'puff', 'house')"
   ]
  },
  {
   "cell_type": "markdown",
   "id": "6b89f80a-6073-49d3-90e2-eb2e60da28e5",
   "metadata": {},
   "source": [
    "The above line is kind of long -- suppose you want to break it into separate lines. You cannot just split the line after the '%' as you might in other languages, since by default Python treats each line as a separate statement (on the plus side, this is why we don't need to type semi-colons on each line). To fix this, enclose the whole expression in an outer set of parenthesis -- then the expression is allowed to span multiple lines. This code-across-lines technique works with the various grouping constructs detailed below: ( ), [ ], { }."
   ]
  },
  {
   "cell_type": "code",
   "execution_count": 25,
   "id": "ed74dc1b-43a3-4297-9d09-c556c60053db",
   "metadata": {},
   "outputs": [],
   "source": [
    "# Add parentheses to make the long line work:\n",
    "text = (\n",
    "    \"%d little pigs come out, or I'll %s, and I'll %s, and I'll blow your %s down.\"\n",
    "    % (3, 'huff', 'puff', 'house'))"
   ]
  },
  {
   "cell_type": "markdown",
   "id": "ec15b454-ae9a-4e07-ac5b-32c9a7c5fd00",
   "metadata": {},
   "source": [
    "That's better, but the line is still a little long. Python lets you cut a line up into chunks, which it will then automatically concatenate. So, to make this line even shorter, we can do this:\n",
    "\n"
   ]
  },
  {
   "cell_type": "code",
   "execution_count": 27,
   "id": "2c05de2f-430f-451c-ab3c-51181153f731",
   "metadata": {},
   "outputs": [],
   "source": [
    "  # Split the line into chunks, which are concatenated automatically by Python\n",
    "text = (\n",
    "    \"%d little pigs come out, \"\n",
    "    \"or I'll %s, and I'll %s, \"\n",
    "    \"and I'll blow your %s down.\"\n",
    "    % (3, 'huff', 'puff', 'house'))"
   ]
  },
  {
   "cell_type": "code",
   "execution_count": 28,
   "id": "2f3d28ea-31fa-4fa4-a6f5-1a2fd1c96b99",
   "metadata": {},
   "outputs": [
    {
     "data": {
      "text/plain": [
       "\"3 little pigs come out, or I'll huff, and I'll puff, and I'll blow your house down.\""
      ]
     },
     "execution_count": 28,
     "metadata": {},
     "output_type": "execute_result"
    }
   ],
   "source": [
    "text"
   ]
  },
  {
   "cell_type": "markdown",
   "id": "40b4e6a8-f567-49f4-aa72-3ff9ee8dc83e",
   "metadata": {},
   "source": [
    "Strings (Unicode vs bytes)\n",
    "Regular Python strings are unicode.\n",
    "\n",
    "Python also supports strings composed of plain bytes (denoted by the prefix 'b' in front of a string literal) like:"
   ]
  },
  {
   "cell_type": "code",
   "execution_count": 32,
   "id": "8abd2ccd-16a8-45e3-a87e-b2ac8e085e89",
   "metadata": {},
   "outputs": [
    {
     "data": {
      "text/plain": [
       "b'A byte string'"
      ]
     },
     "execution_count": 32,
     "metadata": {},
     "output_type": "execute_result"
    }
   ],
   "source": [
    "byte_string = b'A byte string'\n",
    "byte_string"
   ]
  },
  {
   "cell_type": "markdown",
   "id": "37d866ca-1884-46af-91a0-f78fda510736",
   "metadata": {},
   "source": [
    "A unicode string is a different type of object from a byte string but various libraries such as regular expressions work correctly if passed either type of string.\n",
    "\n",
    "To convert a regular Python string to bytes, call the encode() method on the string. Going the other direction, the byte string decode() method converts encoded plain bytes to a unicode string:"
   ]
  },
  {
   "cell_type": "code",
   "execution_count": 34,
   "id": "77ff6325-7645-42bb-b6eb-d845cce0790b",
   "metadata": {},
   "outputs": [],
   "source": [
    "ustring = 'A unicode \\u018e string \\xf1'\n",
    "b = ustring.encode('utf-8')"
   ]
  },
  {
   "cell_type": "code",
   "execution_count": 38,
   "id": "5ca189ec-162e-4532-a257-00ded74e7652",
   "metadata": {},
   "outputs": [
    {
     "data": {
      "text/plain": [
       "b'A unicode \\xc6\\x8e string \\xc3\\xb1'"
      ]
     },
     "execution_count": 38,
     "metadata": {},
     "output_type": "execute_result"
    }
   ],
   "source": [
    "b   ## bytes of utf-8 encoding. Note the b-prefix."
   ]
  },
  {
   "cell_type": "code",
   "execution_count": 39,
   "id": "e696c2bb-ba74-4e18-a6a9-51dab13caf76",
   "metadata": {},
   "outputs": [],
   "source": [
    "t = b.decode('utf-8')   ## Convert bytes back to a unicode string"
   ]
  },
  {
   "cell_type": "code",
   "execution_count": 40,
   "id": "9550645b-1556-4113-8421-b555d0c2183c",
   "metadata": {},
   "outputs": [
    {
     "data": {
      "text/plain": [
       "True"
      ]
     },
     "execution_count": 40,
     "metadata": {},
     "output_type": "execute_result"
    }
   ],
   "source": [
    "t == ustring    ## It's the same as the original, yay!"
   ]
  },
  {
   "cell_type": "markdown",
   "id": "3a07bc49-d571-468d-a19d-f01bc04d3884",
   "metadata": {},
   "source": [
    "In the file-reading section, there's an example that shows how to open a text file with some encoding and read out unicode strings."
   ]
  },
  {
   "cell_type": "markdown",
   "id": "204dc3df-8416-4d72-8005-b0dcf3e5f0a2",
   "metadata": {},
   "source": [
    "**If Statement**\n",
    "\n",
    "Python does not use { } to enclose blocks of code for if/loops/function etc.. Instead, Python uses the colon (:) and indentation/whitespace to group statements. The boolean test for an if does not need to be in parenthesis (big difference from C++/Java), and it can have *elif* and *else* clauses (mnemonic: the word \"elif\" is the same length as the word \"else\").\n",
    "\n",
    "Any value can be used as an if-test. The \"zero\" values all count as false: None, 0, empty string, empty list, empty dictionary. There is also a Boolean type with two values: True and False (converted to an int, these are 1 and 0). Python has the usual comparison operations: ==, !=, <, <=, >, >=. Unlike Java and C, == is overloaded to work correctly with strings. The boolean operators are the spelled out words *and*, *or*, *not* (Python does not use the C-style && || !). Here's what the code might look like for a health app providing drink recommendations throughout the day -- notice how each block of then/else statements starts with a : and the statements are grouped by their indentation:"
   ]
  },
  {
   "cell_type": "code",
   "execution_count": 51,
   "id": "d85e6ae2-ab44-4a1a-ba1c-140295f4235f",
   "metadata": {},
   "outputs": [
    {
     "name": "stdout",
     "output_type": "stream",
     "text": [
      "Checking patient status...\n",
      "Suggesting fever medication and hydration\n"
     ]
    }
   ],
   "source": [
    "time_hour = 5\n",
    "symptom = 'fever'\n",
    "\n",
    "if time_hour >= 0 and time_hour <= 24:\n",
    "    print('Checking patient status...')\n",
    "    \n",
    "    if symptom == 'sleepy' and time_hour < 10:\n",
    "        print('Suggesting rest and light medication')\n",
    "    elif symptom == 'fever' or time_hour < 2:\n",
    "        print('Suggesting fever medication and hydration')\n",
    "    elif symptom == 'pain' and time_hour >= 8:\n",
    "        print('Suggesting pain relief medication')\n",
    "    else:\n",
    "        print('Suggesting routine check and water intake')\n"
   ]
  },
  {
   "cell_type": "markdown",
   "id": "4a744d7c-5f52-4cee-a118-2a77a480587f",
   "metadata": {},
   "source": [
    "I find that omitting the \":\" is my most common syntax mistake when typing in the above sort of code, probably since that's an additional thing to type vs. my C++/Java habits. Also, don't put the boolean test in parentheses -- that's a C/Java habit. If the code is short, you can put the code on the same line after \":\", like this (this applies to functions, loops, etc. also), although some people feel it's more readable to space things out on separate lines."
   ]
  },
  {
   "cell_type": "code",
   "execution_count": 50,
   "id": "4ead8c13-5a00-494d-90d3-5d5289a78962",
   "metadata": {},
   "outputs": [
    {
     "name": "stdout",
     "output_type": "stream",
     "text": [
      "coffee\n"
     ]
    }
   ],
   "source": [
    "if time_hour < 10: \n",
    "    print('coffee')\n",
    "else: \n",
    "    print('water')"
   ]
  }
 ],
 "metadata": {
  "kernelspec": {
   "display_name": "Python 3 (ipykernel)",
   "language": "python",
   "name": "python3"
  },
  "language_info": {
   "codemirror_mode": {
    "name": "ipython",
    "version": 3
   },
   "file_extension": ".py",
   "mimetype": "text/x-python",
   "name": "python",
   "nbconvert_exporter": "python",
   "pygments_lexer": "ipython3",
   "version": "3.11.10"
  }
 },
 "nbformat": 4,
 "nbformat_minor": 5
}
